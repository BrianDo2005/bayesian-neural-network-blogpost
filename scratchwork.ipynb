{
 "cells": [
  {
   "cell_type": "code",
   "execution_count": 37,
   "metadata": {
    "collapsed": false
   },
   "outputs": [],
   "source": [
    "from bnn.model import load_baysean_model, load_full_model, encoder_min_input_size\n",
    "from bnn import evaluate\n",
    "from bnn.data import test_train_batch_data, test_train_data\n",
    "from bnn.util import BayesianConfig\n",
    "\n",
    "from keras import backend as K\n",
    "import numpy as np"
   ]
  },
  {
   "cell_type": "code",
   "execution_count": 3,
   "metadata": {
    "collapsed": true
   },
   "outputs": [],
   "source": [
    "encoder = 'resnet50'\n",
    "dataset = 'cifar10'\n",
    "debug = True\n",
    "monte_carlo_simulations = 100\n",
    "min_image_size = (197,197,3)\n",
    "full_model = True\n"
   ]
  },
  {
   "cell_type": "code",
   "execution_count": 4,
   "metadata": {
    "collapsed": false
   },
   "outputs": [
    {
     "name": "stdout",
     "output_type": "stream",
     "text": [
      "Resizing images from (32, 32) to (197, 197)\n",
      "Done resizing train images.\n",
      "Done resizing test images.\n"
     ]
    }
   ],
   "source": [
    "((x_train, y_train), (x_test, y_test)) = test_train_data(dataset, min_image_size[0:2], debug)"
   ]
  },
  {
   "cell_type": "code",
   "execution_count": 6,
   "metadata": {
    "collapsed": false
   },
   "outputs": [
    {
     "name": "stderr",
     "output_type": "stream",
     "text": [
      "/Users/kyledorman/anaconda/lib/python3.5/site-packages/keras/models.py:268: UserWarning: Output \"softmax_output\" missing from loss dictionary. We assume this was done on purpose, and we will not be expecting any data to be passed to \"softmax_output\" during training.\n",
      "  sample_weight_mode=sample_weight_mode)\n"
     ]
    },
    {
     "name": "stdout",
     "output_type": "stream",
     "text": [
      "Compiling model.\n"
     ]
    },
    {
     "name": "stderr",
     "output_type": "stream",
     "text": [
      "/Users/kyledorman/Documents/carnd/bayesian-neural-network-blogpost/bnn/evaluate.py:49: UserWarning: Output \"softmax_output\" missing from loss dictionary. We assume this was done on purpose, and we will not be expecting any data to be passed to \"softmax_output\" during training.\n",
      "  metrics={'softmax_output': 'categorical_accuracy', 'softmax_output': 'top_k_categorical_accuracy'})\n"
     ]
    }
   ],
   "source": [
    "config = BayesianConfig(encoder, dataset, 256, 50, monte_carlo_simulations)\n",
    "model = evaluate.load_testable_model(encoder, config, monte_carlo_simulations, y_train.shape[-1], min_image_size, full_model)"
   ]
  },
  {
   "cell_type": "code",
   "execution_count": 24,
   "metadata": {
    "collapsed": false
   },
   "outputs": [],
   "source": [
    "predictions = model.predict(x_train[0:128])\n",
    "labels = y_train[0:128]"
   ]
  },
  {
   "cell_type": "code",
   "execution_count": 32,
   "metadata": {
    "collapsed": true
   },
   "outputs": [],
   "source": [
    "uncertainties = predictions[0][:,10:]"
   ]
  },
  {
   "cell_type": "code",
   "execution_count": 43,
   "metadata": {
    "collapsed": false
   },
   "outputs": [
    {
     "data": {
      "text/plain": [
       "array([[ 0.11820246,  0.75832768],\n",
       "       [ 0.43192474,  0.0192488 ],\n",
       "       [ 0.8923598 ,  0.1803694 ],\n",
       "       [ 0.55716212,  0.01950079],\n",
       "       [ 3.80515113,  0.22466248],\n",
       "       [-0.93007683,  1.66259945],\n",
       "       [-0.61921775, -1.32401168],\n",
       "       [-0.99122913, -1.06474315],\n",
       "       [ 0.19741622, -0.2971317 ],\n",
       "       [-0.59747733,  2.04673066],\n",
       "       [ 1.00084328, -2.06180167],\n",
       "       [-0.71037481,  1.50037795],\n",
       "       [ 0.85387373, -0.74232105],\n",
       "       [-0.82249384, -1.32007156],\n",
       "       [ 0.36328592, -3.61078289],\n",
       "       [ 0.22860899, -0.39018346],\n",
       "       [ 1.39246963,  1.01088665],\n",
       "       [ 0.88803769, -3.41080758],\n",
       "       [-0.25744589,  4.46698222],\n",
       "       [-0.68879473, -0.85009728]])"
      ]
     },
     "execution_count": 43,
     "metadata": {},
     "output_type": "execute_result"
    }
   ],
   "source": [
    "from tensorflow.contrib import distributions\n",
    "std = K.sqrt(K.variable(uncertainties))\n",
    "dist = distributions.Normal(loc=K.zeros_like(a), scale=a)\n",
    "K.eval(dist.sample(20))"
   ]
  },
  {
   "cell_type": "code",
   "execution_count": 23,
   "metadata": {
    "collapsed": false
   },
   "outputs": [
    {
     "name": "stdout",
     "output_type": "stream",
     "text": [
      "[ 0  0  0  0  0  0  0  0  0  0  0  0  0  0  0  0  0  0  0  0  0  0  0  0  0\n",
      "  0  0  0  0  0  0  0  0  0  0  2  0  0  0  1  0  0  0  0  0  0  0  0  0  0\n",
      "  0  0  0  0  0  0  0  0  0  0  0  0  0  0  0  0  0  0  0  0  0  0  0  0  0\n",
      "  0  0  0  4  0 -3  0  0 -2  0  0  0  0  0  0  0  0  0  0  0  0  0  0  0  0\n",
      "  0  0 -8  0  0  0  0  0  0  0  0  0  0  0  0  0  0  0  0  0  0  2  0  0  0\n",
      "  0  0  0]\n"
     ]
    }
   ],
   "source": [
    "print(np.argmax(predictions, axis=1)-np.argmax(labels, axis=1))"
   ]
  }
 ],
 "metadata": {
  "anaconda-cloud": {},
  "kernelspec": {
   "display_name": "Python [default]",
   "language": "python",
   "name": "python3"
  },
  "language_info": {
   "codemirror_mode": {
    "name": "ipython",
    "version": 3
   },
   "file_extension": ".py",
   "mimetype": "text/x-python",
   "name": "python",
   "nbconvert_exporter": "python",
   "pygments_lexer": "ipython3",
   "version": "3.5.2"
  }
 },
 "nbformat": 4,
 "nbformat_minor": 1
}
